{
 "cells": [
  {
   "cell_type": "markdown",
   "id": "520039c7-69d8-4db8-9566-cee4bc74159a",
   "metadata": {},
   "source": [
    "# Hypothesis Testing with Insurance Data (Core)"
   ]
  },
  {
   "cell_type": "code",
   "execution_count": 1,
   "id": "7ce52c84-b81d-47d8-a299-824dd09b9db7",
   "metadata": {},
   "outputs": [],
   "source": [
    "#Full Name: Hannah Ploutz"
   ]
  },
  {
   "cell_type": "markdown",
   "id": "97d1e5fb-0eec-4f54-bcc3-b15beade557c",
   "metadata": {},
   "source": [
    "## Tasks"
   ]
  },
  {
   "cell_type": "markdown",
   "id": "015268ff-c942-4d22-a1ab-63068d374153",
   "metadata": {},
   "source": [
    "Answer the following questions using Hypothesis skills:\n",
    "- Q1. Do smokers have higher insurance charges than non-smokers?\n",
    "- Q2. Are men more likely to smoke than women?\n",
    "- Q3. Do different regions have different charges, on average?"
   ]
  },
  {
   "cell_type": "markdown",
   "id": "b4d58e1d-4e04-4b36-b8a2-ab35b48a18be",
   "metadata": {},
   "source": [
    "For each question, make sure to:\n",
    "\n",
    "1. State your Null Hypothesis and Alternative Hypothesis\n",
    "2. Select the correct test according to the data type and number of samples\n",
    "3. Test the assumptions of your selected test.\n",
    "4. Execute the selected test, or the alternative test (if you do not meet the assumptions)\n",
    "5. Interpret your p-value and reject or fail to reject your null hypothesis \n",
    "6. Show a supporting visualization that helps display the result"
   ]
  },
  {
   "cell_type": "markdown",
   "id": "abe2a511-e972-45be-bde5-878714e7ed7d",
   "metadata": {},
   "source": [
    "## Import and Load the Data"
   ]
  },
  {
   "cell_type": "code",
   "execution_count": 2,
   "id": "71f4feb6-9b04-4ee2-894b-70667e05d8f8",
   "metadata": {},
   "outputs": [],
   "source": [
    "import pandas as pd\n",
    "import numpy as np\n",
    "import matplotlib.pyplot as plt\n",
    "import seaborn as sns\n",
    "from scipy import stats"
   ]
  },
  {
   "cell_type": "code",
   "execution_count": 3,
   "id": "bcf8dc53-95f2-41b8-aaa4-9da3ab2447f6",
   "metadata": {},
   "outputs": [
    {
     "data": {
      "text/html": [
       "<div>\n",
       "<style scoped>\n",
       "    .dataframe tbody tr th:only-of-type {\n",
       "        vertical-align: middle;\n",
       "    }\n",
       "\n",
       "    .dataframe tbody tr th {\n",
       "        vertical-align: top;\n",
       "    }\n",
       "\n",
       "    .dataframe thead th {\n",
       "        text-align: right;\n",
       "    }\n",
       "</style>\n",
       "<table border=\"1\" class=\"dataframe\">\n",
       "  <thead>\n",
       "    <tr style=\"text-align: right;\">\n",
       "      <th></th>\n",
       "      <th>age</th>\n",
       "      <th>sex</th>\n",
       "      <th>bmi</th>\n",
       "      <th>children</th>\n",
       "      <th>smoker</th>\n",
       "      <th>region</th>\n",
       "      <th>charges</th>\n",
       "    </tr>\n",
       "  </thead>\n",
       "  <tbody>\n",
       "    <tr>\n",
       "      <th>0</th>\n",
       "      <td>19</td>\n",
       "      <td>female</td>\n",
       "      <td>27.900</td>\n",
       "      <td>0</td>\n",
       "      <td>yes</td>\n",
       "      <td>southwest</td>\n",
       "      <td>16884.92400</td>\n",
       "    </tr>\n",
       "    <tr>\n",
       "      <th>1</th>\n",
       "      <td>18</td>\n",
       "      <td>male</td>\n",
       "      <td>33.770</td>\n",
       "      <td>1</td>\n",
       "      <td>no</td>\n",
       "      <td>southeast</td>\n",
       "      <td>1725.55230</td>\n",
       "    </tr>\n",
       "    <tr>\n",
       "      <th>2</th>\n",
       "      <td>28</td>\n",
       "      <td>male</td>\n",
       "      <td>33.000</td>\n",
       "      <td>3</td>\n",
       "      <td>no</td>\n",
       "      <td>southeast</td>\n",
       "      <td>4449.46200</td>\n",
       "    </tr>\n",
       "    <tr>\n",
       "      <th>3</th>\n",
       "      <td>33</td>\n",
       "      <td>male</td>\n",
       "      <td>22.705</td>\n",
       "      <td>0</td>\n",
       "      <td>no</td>\n",
       "      <td>northwest</td>\n",
       "      <td>21984.47061</td>\n",
       "    </tr>\n",
       "    <tr>\n",
       "      <th>4</th>\n",
       "      <td>32</td>\n",
       "      <td>male</td>\n",
       "      <td>28.880</td>\n",
       "      <td>0</td>\n",
       "      <td>no</td>\n",
       "      <td>northwest</td>\n",
       "      <td>3866.85520</td>\n",
       "    </tr>\n",
       "  </tbody>\n",
       "</table>\n",
       "</div>"
      ],
      "text/plain": [
       "   age     sex     bmi  children smoker     region      charges\n",
       "0   19  female  27.900         0    yes  southwest  16884.92400\n",
       "1   18    male  33.770         1     no  southeast   1725.55230\n",
       "2   28    male  33.000         3     no  southeast   4449.46200\n",
       "3   33    male  22.705         0     no  northwest  21984.47061\n",
       "4   32    male  28.880         0     no  northwest   3866.85520"
      ]
     },
     "execution_count": 3,
     "metadata": {},
     "output_type": "execute_result"
    }
   ],
   "source": [
    "path = 'Data/insurance - insurance.csv'\n",
    "df = pd.read_csv(path)\n",
    "df.head()"
   ]
  },
  {
   "cell_type": "markdown",
   "id": "4e918f38-9d82-4efb-b038-1b642a809135",
   "metadata": {},
   "source": [
    "### Question 1: Do smokers have higher insurance charges than non-smokers?"
   ]
  },
  {
   "cell_type": "markdown",
   "id": "071581aa-d708-4f69-b75e-638371b88a79",
   "metadata": {},
   "source": [
    "**1. State your Null Hypothesis and Alternative Hypothesis**"
   ]
  },
  {
   "cell_type": "markdown",
   "id": "6d2d10a3-04da-45f3-af86-298b6d2b8321",
   "metadata": {},
   "source": [
    "- `Null Hypothesis`: The mean insurance charge of smokers is equal to the mean insurance charge of non-smokers.\n",
    "- `Alternative Hypothesis`: The mean insurance charge of smokers is not equal to the mean insurance charge of non-smokers."
   ]
  },
  {
   "cell_type": "markdown",
   "id": "d5d88452-24f2-47cc-9312-1696d82fec77",
   "metadata": {},
   "source": [
    "**2. Select the correct test according to the data type and number of samples**"
   ]
  },
  {
   "cell_type": "markdown",
   "id": "0d4122f1-3ae1-488a-b333-0105accf2248",
   "metadata": {},
   "source": [
    "- We are comparing means of two independent groups (smokers and non-smokers), so a we will use a `two-sample t-test`"
   ]
  },
  {
   "cell_type": "markdown",
   "id": "f10e4708-049a-4b59-bcbc-821dd951eea2",
   "metadata": {},
   "source": [
    "**3. Test the assumptions of your selected test.**"
   ]
  },
  {
   "cell_type": "markdown",
   "id": "7473b6f9-59b0-447f-b4cf-d88d89dd0845",
   "metadata": {},
   "source": [
    "Before proceeding with the t-test, we should test for the following assumptions:\n",
    "\n",
    "- No significant outliers\n",
    "- Normality of the distribution\n",
    "- Equal variance in both groups"
   ]
  },
  {
   "cell_type": "code",
   "execution_count": 4,
   "id": "d4a91c2b-5ac9-4a66-8a72-5ad0a07111aa",
   "metadata": {},
   "outputs": [
    {
     "name": "stdout",
     "output_type": "stream",
     "text": [
      "For smokers (n=274): Mean=32050.23\n",
      "For non-smokers (n=1064): Mean=8434.27\n"
     ]
    }
   ],
   "source": [
    "#find the mean\n",
    "#smokers with charges\n",
    "smoker_charge = df.loc[ df['smoker']=='yes',\"charges\"]\n",
    "#non smokers with charges\n",
    "nonsmoker_charge = df.loc[ df['smoker']=='no',\"charges\"]\n",
    "print(f\"For smokers (n={len(smoker_charge)}): Mean={np.mean(smoker_charge):.2f}\")\n",
    "print(f\"For non-smokers (n={len(nonsmoker_charge)}): Mean={np.mean(nonsmoker_charge):.2f}\")"
   ]
  },
  {
   "cell_type": "markdown",
   "id": "75367d3f-2638-42ee-8887-28b677b94f69",
   "metadata": {},
   "source": [
    "**A. Test for outliers**"
   ]
  },
  {
   "cell_type": "code",
   "execution_count": 5,
   "id": "161be3b9-88ce-47c0-8c9a-b48d1f36793e",
   "metadata": {},
   "outputs": [
    {
     "data": {
      "text/plain": [
       "0"
      ]
     },
     "execution_count": 5,
     "metadata": {},
     "output_type": "execute_result"
    }
   ],
   "source": [
    "#test for outliers\n",
    "#smokers\n",
    "zscores_s = stats.zscore(smoker_charge)\n",
    "outliers_s = abs(zscores_s)>3\n",
    "np.sum(outliers_s)"
   ]
  },
  {
   "cell_type": "markdown",
   "id": "c0705bf0-4923-4f68-9284-bec6eb232898",
   "metadata": {},
   "source": [
    "- There are no outliers for smokers"
   ]
  },
  {
   "cell_type": "code",
   "execution_count": 6,
   "id": "803b0701-3d1d-498c-930c-5e14cf4187f4",
   "metadata": {},
   "outputs": [
    {
     "data": {
      "text/plain": [
       "24"
      ]
     },
     "execution_count": 6,
     "metadata": {},
     "output_type": "execute_result"
    }
   ],
   "source": [
    "#test for outliers\n",
    "#non smokers\n",
    "zscores_n = stats.zscore(nonsmoker_charge)\n",
    "outliers_n = abs(zscores_n)>3\n",
    "np.sum(outliers_n)"
   ]
  },
  {
   "cell_type": "markdown",
   "id": "67daa0c8-05a9-4db4-9047-279e5870faa0",
   "metadata": {},
   "source": [
    "- There are 24 outliers for nonsmokers"
   ]
  },
  {
   "cell_type": "code",
   "execution_count": 7,
   "id": "4fa8b75a-23d8-4965-8857-e951c49c1ac5",
   "metadata": {},
   "outputs": [],
   "source": [
    "#remove the outliers for non smokers\n",
    "nonsmoker_charge = nonsmoker_charge[(np.abs(stats.zscore(nonsmoker_charge)) < 3)]"
   ]
  },
  {
   "cell_type": "markdown",
   "id": "4698e767-1c9d-43dd-8e81-3b44ad3f4434",
   "metadata": {},
   "source": [
    "**B. Test each group for Normality**"
   ]
  },
  {
   "cell_type": "code",
   "execution_count": 8,
   "id": "43fd6fe5-72a9-4e12-8a0d-3d21892c58bd",
   "metadata": {},
   "outputs": [
    {
     "data": {
      "text/plain": [
       "NormaltestResult(statistic=61.03941356533816, pvalue=5.564930630036463e-14)"
      ]
     },
     "execution_count": 8,
     "metadata": {},
     "output_type": "execute_result"
    }
   ],
   "source": [
    "# normal test smokers\n",
    "result_s = stats.normaltest(smoker_charge)\n",
    "result_s"
   ]
  },
  {
   "cell_type": "code",
   "execution_count": 9,
   "id": "4dc4a5d0-3ac0-4d86-a8a2-6386f5820fd9",
   "metadata": {},
   "outputs": [
    {
     "data": {
      "text/plain": [
       "NormaltestResult(statistic=163.80367047789198, pvalue=2.6945416315543976e-36)"
      ]
     },
     "execution_count": 9,
     "metadata": {},
     "output_type": "execute_result"
    }
   ],
   "source": [
    "# normal test nonsmokers\n",
    "result_n = stats.normaltest(nonsmoker_charge)\n",
    "result_n"
   ]
  },
  {
   "cell_type": "markdown",
   "id": "fe77ba76-c09c-4b4b-a356-f0e4bd27357f",
   "metadata": {},
   "source": [
    "- For both smokers and nonsmokers, they are signifigantly less than 0.05, so we proceed to test for variance"
   ]
  },
  {
   "cell_type": "markdown",
   "id": "fdbab60c-c2f0-4726-88cf-f4698430326e",
   "metadata": {},
   "source": [
    "**C. Test for Variance**"
   ]
  },
  {
   "cell_type": "code",
   "execution_count": 10,
   "id": "96086c5e-8384-43bf-9c61-8df71cfa4d11",
   "metadata": {},
   "outputs": [
    {
     "data": {
      "text/plain": [
       "LeveneResult(statistic=520.7468821724297, pvalue=2.4247238784347824e-97)"
      ]
     },
     "execution_count": 10,
     "metadata": {},
     "output_type": "execute_result"
    }
   ],
   "source": [
    "#using Levene's test\n",
    "result = stats.levene(smoker_charge, nonsmoker_charge)\n",
    "result"
   ]
  },
  {
   "cell_type": "markdown",
   "id": "195b4893-b26a-4ef6-9ac4-a9c28340d8c9",
   "metadata": {},
   "source": [
    "- The p-value is less than 0.05 so there is not equal variance"
   ]
  },
  {
   "cell_type": "markdown",
   "id": "fc513784-7b57-41c7-84b0-62b4c02edac1",
   "metadata": {},
   "source": [
    "**4. Execute the selected test, or the alternative test (if you do not meet the assumptions)**"
   ]
  },
  {
   "cell_type": "markdown",
   "id": "d0c499c2-f922-4c51-a17b-130ef004890d",
   "metadata": {},
   "source": [
    "- After checking the assumptions, if all are met, we can conduct the two-sample t-test.\n",
    "- Since there are not equal variances, we will use equal_var = False in the independent test"
   ]
  },
  {
   "cell_type": "code",
   "execution_count": 11,
   "id": "96b04ccb-49ad-4e84-9485-317f28e0449c",
   "metadata": {},
   "outputs": [
    {
     "data": {
      "text/plain": [
       "Ttest_indResult(statistic=33.732305987092516, pvalue=2.575322662587431e-104)"
      ]
     },
     "execution_count": 11,
     "metadata": {},
     "output_type": "execute_result"
    }
   ],
   "source": [
    "# Independent t-test with equal_var set to False\n",
    "result = stats.ttest_ind(smoker_charge, nonsmoker_charge, equal_var = False)\n",
    "result"
   ]
  },
  {
   "cell_type": "markdown",
   "id": "22d568c2-9bd8-4402-aa8c-2bff921c3e2c",
   "metadata": {},
   "source": [
    "**5. Interpret your p-value and reject or fail to reject your null hypothesis**"
   ]
  },
  {
   "cell_type": "markdown",
   "id": "2596b583-9eb9-498a-b6dc-22701ce053e6",
   "metadata": {},
   "source": [
    "- The p value is significantly less than alpha 0.05, so we reject the null hypothesis and conclude that there is a <br>\n",
    "significant difference in insurance charges between smokers and non smokers."
   ]
  },
  {
   "cell_type": "markdown",
   "id": "0d59918c-b4c2-4fdb-887c-a8987e5d3be0",
   "metadata": {},
   "source": [
    "**6. Show a supporting visualization that helps display the result**"
   ]
  },
  {
   "cell_type": "code",
   "execution_count": 12,
   "id": "64c36d46-76a1-416f-961c-d3de70df02f6",
   "metadata": {},
   "outputs": [
    {
     "data": {
      "image/png": "[encoded data removed]",
      "text/plain": [
       "<Figure size 1000x600 with 1 Axes>"
      ]
     },
     "metadata": {},
     "output_type": "display_data"
    }
   ],
   "source": [
    "#Creating boxplot using seaborn to display the result\n",
    "plt.figure(figsize=(10,6))\n",
    "sns.boxplot(x='smoker', y='charges', data=df)\n",
    "plt.title('Insurance charges for Smokers vs Non-Smokers')\n",
    "plt.show()"
   ]
  },
  {
   "cell_type": "markdown",
   "id": "f17cf0dd-7e5f-43ff-bb2e-037e72b271db",
   "metadata": {},
   "source": [
    "- Viewing the boxplot above, it can be easily visualized that there is indeed a significant difference between those who smoke <br>\n",
    "and those who dont, and their related insurance charges\n",
    "- It looks like smokers have  higher amount of  charges compared to nonsmokers"
   ]
  },
  {
   "cell_type": "markdown",
   "id": "a4f82399-bf5d-4b1d-9e2a-61d9faab98c1",
   "metadata": {},
   "source": [
    "### Question 2: Are men more likely to smoke than women?"
   ]
  },
  {
   "cell_type": "markdown",
   "id": "cfa84d9f-1137-4254-9f76-38caf4106a6a",
   "metadata": {},
   "source": [
    "**1. State your Null Hypothesis and Alternative Hypothesis**"
   ]
  },
  {
   "cell_type": "markdown",
   "id": "33db76b9-19cd-4ded-99ae-0d8b715645a1",
   "metadata": {},
   "source": [
    "- `Null Hypothesis`: The proportions of smokers among men and women are equal.\n",
    "- `Alternative Hypothesis`: The proportions of smokers among men and women are not equal."
   ]
  },
  {
   "cell_type": "markdown",
   "id": "73f8f639-4f6f-474c-84da-9ce46413cfbe",
   "metadata": {},
   "source": [
    "**2. Select the correct test according to the data type and number of samples**"
   ]
  },
  {
   "cell_type": "markdown",
   "id": "f00aa955-daed-49ce-9e6c-d47cf769c11a",
   "metadata": {},
   "source": [
    "- Since these are two categorical variables (sex and smoker), we will use the Chi-Square test for independence."
   ]
  },
  {
   "cell_type": "markdown",
   "id": "7f2fa23b-7bfa-4136-bd62-7d33562d10e1",
   "metadata": {},
   "source": [
    "**3. Test the assumptions of your selected test.**"
   ]
  },
  {
   "cell_type": "code",
   "execution_count": 13,
   "id": "615d2dd7-c716-4dbf-a736-01fcdc51cd53",
   "metadata": {},
   "outputs": [
    {
     "data": {
      "text/html": [
       "<div>\n",
       "<style scoped>\n",
       "    .dataframe tbody tr th:only-of-type {\n",
       "        vertical-align: middle;\n",
       "    }\n",
       "\n",
       "    .dataframe tbody tr th {\n",
       "        vertical-align: top;\n",
       "    }\n",
       "\n",
       "    .dataframe thead th {\n",
       "        text-align: right;\n",
       "    }\n",
       "</style>\n",
       "<table border=\"1\" class=\"dataframe\">\n",
       "  <thead>\n",
       "    <tr style=\"text-align: right;\">\n",
       "      <th>smoker</th>\n",
       "      <th>no</th>\n",
       "      <th>yes</th>\n",
       "    </tr>\n",
       "    <tr>\n",
       "      <th>sex</th>\n",
       "      <th></th>\n",
       "      <th></th>\n",
       "    </tr>\n",
       "  </thead>\n",
       "  <tbody>\n",
       "    <tr>\n",
       "      <th>female</th>\n",
       "      <td>547</td>\n",
       "      <td>115</td>\n",
       "    </tr>\n",
       "    <tr>\n",
       "      <th>male</th>\n",
       "      <td>517</td>\n",
       "      <td>159</td>\n",
       "    </tr>\n",
       "  </tbody>\n",
       "</table>\n",
       "</div>"
      ],
      "text/plain": [
       "smoker   no  yes\n",
       "sex             \n",
       "female  547  115\n",
       "male    517  159"
      ]
     },
     "execution_count": 13,
     "metadata": {},
     "output_type": "execute_result"
    }
   ],
   "source": [
    "#using the Contingency Table with pd.crosstab\n",
    "table = pd.crosstab(df['sex'], df['smoker'])\n",
    "table"
   ]
  },
  {
   "cell_type": "markdown",
   "id": "373d3774-5adb-4def-9a5e-6ab70b698da1",
   "metadata": {},
   "source": [
    "**4. Execute the selected test, or the alternative test (if you do not meet the assumptions)**"
   ]
  },
  {
   "cell_type": "code",
   "execution_count": 14,
   "id": "e3949a82-d766-4430-b012-732517107c4e",
   "metadata": {},
   "outputs": [],
   "source": [
    "# Run the Test and Save the Output\n",
    "result = stats.chi2_contingency(table)\n",
    "chi2, p, deg_free, expected_vals = result #this labels the results"
   ]
  },
  {
   "cell_type": "code",
   "execution_count": 15,
   "id": "7adfcd34-0e7f-448f-b715-bbbc00cba35d",
   "metadata": {},
   "outputs": [
    {
     "name": "stdout",
     "output_type": "stream",
     "text": [
      "0.006548143503580696\n"
     ]
    },
    {
     "data": {
      "text/plain": [
       "True"
      ]
     },
     "execution_count": 15,
     "metadata": {},
     "output_type": "execute_result"
    }
   ],
   "source": [
    "# What was our p-value?\n",
    "print(p)\n",
    "p<.05"
   ]
  },
  {
   "cell_type": "markdown",
   "id": "5776e089-bbd1-4465-83b1-29503f9be680",
   "metadata": {},
   "source": [
    "**5. Interpret your p-value and reject or fail to reject your null hypothesis**"
   ]
  },
  {
   "cell_type": "markdown",
   "id": "fb88621d-c18b-4fc8-bf5c-0af83f460247",
   "metadata": {},
   "source": [
    "- The p-value is significantly less than 0.05, so we reject the null hypothesis\n",
    "- There is a relationship between a persons sex and if they smoke or not"
   ]
  },
  {
   "cell_type": "markdown",
   "id": "b61c6b21-7b3a-4243-9e65-5d1b00d78e4e",
   "metadata": {},
   "source": [
    "**6. Show a supporting visualization that helps display the result**"
   ]
  },
  {
   "cell_type": "code",
   "execution_count": 16,
   "id": "aeb36a23-9ca9-4119-a74f-de887df551e7",
   "metadata": {},
   "outputs": [
    {
     "data": {
      "image/png": "[encoded data removed]",
      "text/plain": [
       "<Figure size 800x600 with 1 Axes>"
      ]
     },
     "metadata": {},
     "output_type": "display_data"
    }
   ],
   "source": [
    "# Plot the proportion of smokers by sex\n",
    "plt.figure(figsize=(8,6))\n",
    "sns.countplot(x='sex', hue='smoker', data=df)\n",
    "plt.title('Proportion of Smokers by Sex')\n",
    "plt.show()"
   ]
  },
  {
   "cell_type": "markdown",
   "id": "165b748e-9ec6-4623-974c-cd123c2567cc",
   "metadata": {},
   "source": [
    "- Viewing the above visualization, there is a very large difference between sex and those who smoke v those who don't"
   ]
  },
  {
   "cell_type": "markdown",
   "id": "c95f6aa4-bacd-4a41-bab1-427496588460",
   "metadata": {},
   "source": [
    "### Question 3: Do different regions have different charges, on average?"
   ]
  },
  {
   "cell_type": "markdown",
   "id": "a8030409-a723-439c-ad57-51e62f9c013c",
   "metadata": {},
   "source": [
    "**1. State your Null Hypothesis and Alternative Hypothesis**"
   ]
  },
  {
   "cell_type": "markdown",
   "id": "27dbc34a-3c63-4e4b-b2d7-bd081a5fefdc",
   "metadata": {},
   "source": [
    "- `Null Hypothesis`: The means of the charges are the same in all regions.\n",
    "- `Alternative Hypothesis`: The means of the charges are different in at least two regions."
   ]
  },
  {
   "cell_type": "markdown",
   "id": "fb0d4a80-3f5a-4e7a-a807-d3e8cba4b4f2",
   "metadata": {},
   "source": [
    "**2. Select the correct test according to the data type and number of samples**"
   ]
  },
  {
   "cell_type": "markdown",
   "id": "38949fb3-edce-4eb7-a4a1-ce28cb636106",
   "metadata": {},
   "source": [
    "- We're comparing the means of a numeric variable (charges) across more than two groups (regions), so we'll use the one-way ANOVA test."
   ]
  },
  {
   "cell_type": "markdown",
   "id": "6f89c7ac-b543-40af-a94a-52508260215a",
   "metadata": {},
   "source": [
    "**3. Test the assumptions of your selected test.**"
   ]
  },
  {
   "cell_type": "markdown",
   "id": "08259c9b-24c5-485c-a5b6-5f49b640d15b",
   "metadata": {},
   "source": [
    "Checking for the following assumptions:\n",
    "- no significant outliers\n",
    "- normality\n",
    "- equal variance."
   ]
  },
  {
   "cell_type": "markdown",
   "id": "23e5c95e-7166-4614-8712-c88825a3117d",
   "metadata": {},
   "source": [
    "**A. No Significant Outliers**"
   ]
  },
  {
   "cell_type": "code",
   "execution_count": 17,
   "id": "f63ceb32-e921-4663-aa34-0655a4217c64",
   "metadata": {},
   "outputs": [],
   "source": [
    "# Test for outliers\n",
    "zscores = np.abs(stats.zscore(df['charges']))\n",
    "df = df[zscores < 3]"
   ]
  },
  {
   "cell_type": "markdown",
   "id": "795dd82a-5560-4dee-a7c9-47cbf4913673",
   "metadata": {},
   "source": [
    "**B. Normality**"
   ]
  },
  {
   "cell_type": "code",
   "execution_count": 18,
   "id": "051de64b-e142-4f38-b2df-5dd48884d4ae",
   "metadata": {},
   "outputs": [
    {
     "data": {
      "text/plain": [
       "dict_keys(['southwest', 'southeast', 'northwest', 'northeast'])"
      ]
     },
     "execution_count": 18,
     "metadata": {},
     "output_type": "execute_result"
    }
   ],
   "source": [
    "#first start with seperating the groups, then test for normality\n",
    "groups = {}\n",
    "## Loop through all unique categories\n",
    "for i in df['region'].unique():\n",
    "    ## Get series for group and rename\n",
    "    data = df.loc[df['region']==i,'charges'].copy()\n",
    "    \n",
    "    # save into the dictionary\n",
    "    groups[i] = data\n",
    "groups.keys()"
   ]
  },
  {
   "cell_type": "code",
   "execution_count": 19,
   "id": "0272b7bf-2f5f-4747-b1cc-277f933271ce",
   "metadata": {},
   "outputs": [
    {
     "data": {
      "text/html": [
       "<div>\n",
       "<style scoped>\n",
       "    .dataframe tbody tr th:only-of-type {\n",
       "        vertical-align: middle;\n",
       "    }\n",
       "\n",
       "    .dataframe tbody tr th {\n",
       "        vertical-align: top;\n",
       "    }\n",
       "\n",
       "    .dataframe thead th {\n",
       "        text-align: right;\n",
       "    }\n",
       "</style>\n",
       "<table border=\"1\" class=\"dataframe\">\n",
       "  <thead>\n",
       "    <tr style=\"text-align: right;\">\n",
       "      <th></th>\n",
       "      <th>n</th>\n",
       "      <th>p</th>\n",
       "      <th>test stat</th>\n",
       "    </tr>\n",
       "  </thead>\n",
       "  <tbody>\n",
       "    <tr>\n",
       "      <th>southwest</th>\n",
       "      <td>323.0</td>\n",
       "      <td>1.718876e-22</td>\n",
       "      <td>100.230402</td>\n",
       "    </tr>\n",
       "    <tr>\n",
       "      <th>southeast</th>\n",
       "      <td>362.0</td>\n",
       "      <td>1.936990e-13</td>\n",
       "      <td>58.544942</td>\n",
       "    </tr>\n",
       "    <tr>\n",
       "      <th>northwest</th>\n",
       "      <td>323.0</td>\n",
       "      <td>9.182483e-21</td>\n",
       "      <td>92.273979</td>\n",
       "    </tr>\n",
       "    <tr>\n",
       "      <th>northeast</th>\n",
       "      <td>323.0</td>\n",
       "      <td>6.205365e-18</td>\n",
       "      <td>79.242235</td>\n",
       "    </tr>\n",
       "  </tbody>\n",
       "</table>\n",
       "</div>"
      ],
      "text/plain": [
       "               n             p   test stat\n",
       "southwest  323.0  1.718876e-22  100.230402\n",
       "southeast  362.0  1.936990e-13   58.544942\n",
       "northwest  323.0  9.182483e-21   92.273979\n",
       "northeast  323.0  6.205365e-18   79.242235"
      ]
     },
     "execution_count": 19,
     "metadata": {},
     "output_type": "execute_result"
    }
   ],
   "source": [
    "## Running normal test on each group and confirming there are >20 in each group\n",
    "norm_results = {}\n",
    "for i, data in groups.items():\n",
    "    stat, p = stats.normaltest(data)\n",
    "    ## save the p val, test statistic, and the size of the group\n",
    "    norm_results[i] = {'n': len(data),\n",
    "                             'p':p,\n",
    "                             'test stat':stat,}\n",
    "## convert to a dataframe\n",
    "norm_results_df = pd.DataFrame(norm_results).T\n",
    "norm_results_df"
   ]
  },
  {
   "cell_type": "code",
   "execution_count": 20,
   "id": "f5b4d4e1-874a-4cde-b010-db1e67b7cdf7",
   "metadata": {},
   "outputs": [
    {
     "data": {
      "text/html": [
       "<div>\n",
       "<style scoped>\n",
       "    .dataframe tbody tr th:only-of-type {\n",
       "        vertical-align: middle;\n",
       "    }\n",
       "\n",
       "    .dataframe tbody tr th {\n",
       "        vertical-align: top;\n",
       "    }\n",
       "\n",
       "    .dataframe thead th {\n",
       "        text-align: right;\n",
       "    }\n",
       "</style>\n",
       "<table border=\"1\" class=\"dataframe\">\n",
       "  <thead>\n",
       "    <tr style=\"text-align: right;\">\n",
       "      <th></th>\n",
       "      <th>n</th>\n",
       "      <th>p</th>\n",
       "      <th>test stat</th>\n",
       "      <th>sig</th>\n",
       "    </tr>\n",
       "  </thead>\n",
       "  <tbody>\n",
       "    <tr>\n",
       "      <th>southwest</th>\n",
       "      <td>323.0</td>\n",
       "      <td>1.718876e-22</td>\n",
       "      <td>100.230402</td>\n",
       "      <td>True</td>\n",
       "    </tr>\n",
       "    <tr>\n",
       "      <th>southeast</th>\n",
       "      <td>362.0</td>\n",
       "      <td>1.936990e-13</td>\n",
       "      <td>58.544942</td>\n",
       "      <td>True</td>\n",
       "    </tr>\n",
       "    <tr>\n",
       "      <th>northwest</th>\n",
       "      <td>323.0</td>\n",
       "      <td>9.182483e-21</td>\n",
       "      <td>92.273979</td>\n",
       "      <td>True</td>\n",
       "    </tr>\n",
       "    <tr>\n",
       "      <th>northeast</th>\n",
       "      <td>323.0</td>\n",
       "      <td>6.205365e-18</td>\n",
       "      <td>79.242235</td>\n",
       "      <td>True</td>\n",
       "    </tr>\n",
       "  </tbody>\n",
       "</table>\n",
       "</div>"
      ],
      "text/plain": [
       "               n             p   test stat   sig\n",
       "southwest  323.0  1.718876e-22  100.230402  True\n",
       "southeast  362.0  1.936990e-13   58.544942  True\n",
       "northwest  323.0  9.182483e-21   92.273979  True\n",
       "northeast  323.0  6.205365e-18   79.242235  True"
      ]
     },
     "execution_count": 20,
     "metadata": {},
     "output_type": "execute_result"
    }
   ],
   "source": [
    "### checking sig with pandas \n",
    "norm_results_df['sig'] = norm_results_df['p'] < .05 \n",
    "norm_results_df"
   ]
  },
  {
   "cell_type": "markdown",
   "id": "70020426-7b25-40f8-97df-01f5cbaac65f",
   "metadata": {},
   "source": [
    "- Each group does `not` have a normal distribution"
   ]
  },
  {
   "cell_type": "markdown",
   "id": "985b16eb-571d-486c-a80c-c6098859324f",
   "metadata": {},
   "source": [
    "**C. Equal Variance**"
   ]
  },
  {
   "cell_type": "code",
   "execution_count": 21,
   "id": "633d3570-991d-4ecc-833a-313e4f1c07c0",
   "metadata": {},
   "outputs": [
    {
     "data": {
      "text/plain": [
       "LeveneResult(statistic=5.894904759083203, pvalue=0.0005382763869610836)"
      ]
     },
     "execution_count": 21,
     "metadata": {},
     "output_type": "execute_result"
    }
   ],
   "source": [
    "# with the * operator \n",
    "stats.levene(*groups.values())"
   ]
  },
  {
   "cell_type": "markdown",
   "id": "ac2ffbc6-77de-443e-9062-d402a8319d81",
   "metadata": {},
   "source": [
    "- For Levene's test, the p-value is less than 0.05, indicating that the variances of charges across different regions are `not` equal."
   ]
  },
  {
   "cell_type": "markdown",
   "id": "926a8a45-1b73-4b9c-bcbf-0f149e6a8a73",
   "metadata": {},
   "source": [
    "**4. Execute the selected test, or the alternative test (if you do not meet the assumptions)**"
   ]
  },
  {
   "cell_type": "markdown",
   "id": "3787b0cd-b934-492b-9402-928d0bc11cb8",
   "metadata": {},
   "source": [
    "- The results are that the assumptions were not met due to it not having normal distribution and the p-value being < 0.05.\n",
    "- We will be proceeding with `Kruskal-Wallis` test as the alternative\n",
    "- Kruskal-Wallis test doesn't assume normality or equal variances"
   ]
  },
  {
   "cell_type": "code",
   "execution_count": 22,
   "id": "93f2b033-723a-41ca-b026-fadfe5436bf5",
   "metadata": {},
   "outputs": [
    {
     "name": "stdout",
     "output_type": "stream",
     "text": [
      "Statistics=5.119, p=0.163\n"
     ]
    }
   ],
   "source": [
    "from scipy.stats import kruskal\n",
    "\n",
    "stat, p = kruskal(df['charges'][df['region'] == 'southwest'],\n",
    "                  df['charges'][df['region'] == 'southeast'],\n",
    "                  df['charges'][df['region'] == 'northwest'],\n",
    "                  df['charges'][df['region'] == 'northeast'])\n",
    "\n",
    "print('Statistics=%.3f, p=%.3f' % (stat, p))"
   ]
  },
  {
   "cell_type": "markdown",
   "id": "1b4d282d-e259-4729-9995-fce2fe9e7593",
   "metadata": {},
   "source": [
    "**5. Interpret your p-value and reject or fail to reject your null hypothesis**"
   ]
  },
  {
   "cell_type": "markdown",
   "id": "a6360359-3d67-4e09-b6af-d63522e466f9",
   "metadata": {},
   "source": [
    "- The p-value is greater than alpha of 0.05, so we fail to reject the null hypothesis\n",
    "- There is no significant difference between the groups"
   ]
  },
  {
   "cell_type": "markdown",
   "id": "f0a7276f-c964-4a96-8158-66b4a0f9131c",
   "metadata": {},
   "source": [
    "**6. Show a supporting visualization that helps display the result**"
   ]
  },
  {
   "cell_type": "code",
   "execution_count": 23,
   "id": "8c63619b-3506-407b-966a-2477ac6fa85c",
   "metadata": {},
   "outputs": [
    {
     "data": {
      "image/png": "[encoded data removed]",
      "text/plain": [
       "<Figure size 800x600 with 1 Axes>"
      ]
     },
     "metadata": {},
     "output_type": "display_data"
    }
   ],
   "source": [
    "#boxplot to show the insurance charges per region\n",
    "plt.figure(figsize=(8,6))\n",
    "sns.boxplot(x='region', y='charges', data=df)\n",
    "plt.title('Insurance Charges by Region')\n",
    "plt.show()\n"
   ]
  },
  {
   "cell_type": "markdown",
   "id": "fee9a555-c54d-48bb-85ae-2872f126221f",
   "metadata": {},
   "source": [
    "- As seen above in the box and whiskers plot, there is not a huge significance difference between all the regions"
   ]
  }
 ],
 "metadata": {
  "kernelspec": {
   "display_name": "Python (dojo-env)",
   "language": "python",
   "name": "dojo-env"
  },
  "language_info": {
   "codemirror_mode": {
    "name": "ipython",
    "version": 3
   },
   "file_extension": ".py",
   "mimetype": "text/x-python",
   "name": "python",
   "nbconvert_exporter": "python",
   "pygments_lexer": "ipython3",
   "version": "3.9.15"
  }
 },
 "nbformat": 4,
 "nbformat_minor": 5
}
